{
 "cells": [
  {
   "cell_type": "code",
   "execution_count": 5,
   "metadata": {},
   "outputs": [
    {
     "name": "stdout",
     "output_type": "stream",
     "text": [
      "[['Sunny' 'Hot' 'High' 'Weak' 'no']\n",
      " ['Sunny' 'Hot' 'High' 'Strong' 'no']\n",
      " ['Overcast' 'Hot' 'High' 'Weak' 'yes']\n",
      " ['Rain' 'Mild' 'High' 'Weak' 'yes']\n",
      " ['Rain' 'Cool' 'Normal' 'Weak' 'yes']\n",
      " ['Rain' 'Cool' 'Normal' 'Strong' 'no']\n",
      " ['Overcast' 'Cool' 'Normal' 'Strong' 'yes']\n",
      " ['Overcast' 'Mild' 'High' 'Weak' 'no']\n",
      " ['Sunny' 'Cool' 'Normal' 'Weak' 'yes']\n",
      " ['Rain' 'Mild' 'Normal' 'Weak' 'yes']]\n"
     ]
    }
   ],
   "source": [
    "import numpy as np\n",
    "\n",
    "data=[['Sunny','Hot', 'High', 'Weak', 'no'],\n",
    "      ['Sunny','Hot', 'High', 'Strong', 'no'],\n",
    "      ['Overcast','Hot', 'High', 'Weak', 'yes'],\n",
    "      ['Rain','Mild', 'High', 'Weak', 'yes'],\n",
    "      ['Rain','Cool', 'Normal', 'Weak', 'yes'],\n",
    "      ['Rain','Cool', 'Normal', 'Strong', 'no'],\n",
    "      ['Overcast','Cool', 'Normal', 'Strong', 'yes'],\n",
    "      ['Overcast','Mild', 'High', 'Weak', 'no'],\n",
    "      ['Sunny','Cool', 'Normal', 'Weak', 'yes'],\n",
    "      ['Rain','Mild', 'Normal', 'Weak', 'yes']\n",
    "    ]\n",
    "\n",
    "data = np.array(data)\n",
    "print(data)"
   ]
  },
  {
   "cell_type": "code",
   "execution_count": 26,
   "metadata": {},
   "outputs": [
    {
     "data": {
      "text/plain": [
       "array(['Sunny', 'Sunny', 'Overcast', 'Rain', 'Rain', 'Rain', 'Overcast',\n",
       "       'Overcast', 'Sunny', 'Rain'], dtype='<U8')"
      ]
     },
     "execution_count": 26,
     "metadata": {},
     "output_type": "execute_result"
    }
   ],
   "source": [
    "data[:,0]"
   ]
  },
  {
   "cell_type": "code",
   "execution_count": 49,
   "metadata": {},
   "outputs": [
    {
     "name": "stdout",
     "output_type": "stream",
     "text": [
      "['no', 'yes', '']\n",
      "[0.4 0.6 0. ]\n",
      "['Weak', 'Strong', '']\n",
      "[0.7 0.3 0. ]\n",
      "['High', 'Normal', '']\n",
      "[0.5 0.5 0. ]\n",
      "['Hot', 'Mild', 'Cool']\n",
      "[0.3 0.3 0.4]\n",
      "['Sunny', 'Overcast', 'Rain']\n",
      "[0.3 0.3 0.4]\n"
     ]
    }
   ],
   "source": [
    "def compute_prior_prob(data,x):\n",
    "    y_unique = [['no', 'yes', ''],['Weak', 'Strong', ''],['High', 'Normal', ''],['Hot', 'Mild', 'Cool'],['Sunny', 'Overcast', 'Rain']]\n",
    "    prior_prob = np.zeros((len(y_unique), 3))\n",
    "    for i,text in enumerate(y_unique):\n",
    "        for j in range(len(text)):\n",
    "            prior_prob[i][j] = np.sum(data[:,x] == text[j])/len(data)\n",
    "        x -= 1\n",
    "        print(text)\n",
    "        print(prior_prob[i])\n",
    "\n",
    "compute_prior_prob(data,4)\n",
    "\n"
   ]
  },
  {
   "cell_type": "code",
   "execution_count": 46,
   "metadata": {},
   "outputs": [
    {
     "name": "stdout",
     "output_type": "stream",
     "text": [
      "['Overcast' 'Rain' 'Sunny']\n",
      "[[0.25       0.25       0.5       ]\n",
      " [0.33333333 0.5        0.16666667]]\n",
      "['Cool' 'Hot' 'Mild']\n",
      "[[0.25       0.5        0.25      ]\n",
      " [0.5        0.16666667 0.33333333]]\n",
      "['High' 'Normal']\n",
      "[[0.75       0.25      ]\n",
      " [0.33333333 0.66666667]]\n",
      "['Strong' 'Weak']\n",
      "[[0.5        0.5       ]\n",
      " [0.16666667 0.83333333]]\n"
     ]
    }
   ],
   "source": [
    "def compute_conditional_prob(data):\n",
    "    y = ['no', 'yes']\n",
    "    conditional_prob = []\n",
    "    x = []\n",
    "    for i in range(0, data.shape[1]-1):\n",
    "        x = np.unique(data[:,i])\n",
    "        print(x)\n",
    "\n",
    "        x_conditional_prob = np.zeros((len(y), len(x)))\n",
    "        for j in range(len(y)):\n",
    "            for k in range(len(x)):\n",
    "                x_conditional_prob[j][k] = np.sum((data[:,i] == x[k]) & (data[:,-1] == y[j]))/np.sum(data[:,-1] == y[j])\n",
    "        conditional_prob.append(x_conditional_prob)\n",
    "        print(x_conditional_prob)\n",
    "\n",
    "compute_conditional_prob(data)"
   ]
  },
  {
   "cell_type": "code",
   "execution_count": 57,
   "metadata": {},
   "outputs": [
    {
     "name": "stdout",
     "output_type": "stream",
     "text": [
      "[['Weekday' 'Spring' 'None' 'None' 'On Time']\n",
      " ['Weekday' 'Winter' 'None' 'Slight' 'On Time']\n",
      " ['Weekday' 'Winter' 'None' 'None' 'On Time']\n",
      " ['Holiday' 'Winter' 'High' 'Slight' 'Late']\n",
      " ['Saturday' 'Summer' 'Normal' 'None' 'On Time']\n",
      " ['Weekday' 'Autumn' 'Normal' 'None' 'Very Late']\n",
      " ['Holiday' 'Summer' 'High' 'Slight' 'On Time']\n",
      " ['Sunday' 'Summer' 'Normal' 'None' 'On Time']\n",
      " ['Weekday' 'Winter' 'High' 'Heavy' 'Very Late']\n",
      " ['Weekday' 'Summer' 'None' 'Slight' 'On Time']\n",
      " ['Saturday' 'Spring' 'High' 'Heavy' 'Cancelled']\n",
      " ['Weekday' 'Summer' 'High' 'Slight' 'On Time']\n",
      " ['Weekday' 'Winter' 'Normal' 'None' 'Late']\n",
      " ['Weekday' 'Summer' 'High' 'None' 'On Time']\n",
      " ['Weekday' 'Winter' 'Normal' 'Heavy' 'Very Late']\n",
      " ['Saturday' 'Autumn' 'High' 'Slight' 'On Time']\n",
      " ['Weekday' 'Autumn' 'None' 'Heavy' 'On Time']\n",
      " ['Holiday' 'Spring' 'Normal' 'Slight' 'On Time']\n",
      " ['Weekday' 'Spring' 'Normal' 'None' 'On Time']\n",
      " ['Weekday' 'Spring' 'Normal' 'Heavy' 'On Time']]\n"
     ]
    }
   ],
   "source": [
    "data2 = [['Weekday', 'Spring', 'None', 'None', 'On Time'],\n",
    "         ['Weekday', 'Winter', 'None', 'Slight', 'On Time'],\n",
    "         ['Weekday', 'Winter', 'None', 'None', 'On Time'],\n",
    "         ['Holiday', 'Winter', 'High', 'Slight', 'Late'],\n",
    "         ['Saturday', 'Summer', 'Normal', 'None', 'On Time'],\n",
    "         ['Weekday', 'Autumn', 'Normal', 'None', 'Very Late'],\n",
    "         ['Holiday', 'Summer', 'High', 'Slight', 'On Time'],\n",
    "         ['Sunday', 'Summer', 'Normal', 'None', 'On Time'],\n",
    "         ['Weekday', 'Winter', 'High', 'Heavy', 'Very Late'],\n",
    "         ['Weekday', 'Summer', 'None', 'Slight', 'On Time'],\n",
    "         ['Saturday', 'Spring', 'High', 'Heavy', 'Cancelled'],\n",
    "         ['Weekday', 'Summer', 'High', 'Slight', 'On Time'],\n",
    "         ['Weekday', 'Winter', 'Normal', 'None', 'Late'],\n",
    "         ['Weekday', 'Summer', 'High', 'None', 'On Time'],\n",
    "         ['Weekday', 'Winter', 'Normal', 'Heavy', 'Very Late'],\n",
    "         ['Saturday', 'Autumn', 'High', 'Slight', 'On Time'],\n",
    "         ['Weekday', 'Autumn', 'None', 'Heavy', 'On Time'],\n",
    "         ['Holiday', 'Spring', 'Normal', 'Slight', 'On Time'],\n",
    "         ['Weekday', 'Spring', 'Normal', 'None', 'On Time'],\n",
    "         ['Weekday', 'Spring', 'Normal', 'Heavy', 'On Time']\n",
    "        ]\n",
    "\n",
    "data = np.array(data2)\n",
    "print(data)"
   ]
  },
  {
   "cell_type": "code",
   "execution_count": 66,
   "metadata": {},
   "outputs": [
    {
     "name": "stdout",
     "output_type": "stream",
     "text": [
      "['On Time', 'Late', 'Very Late', 'Cancelled', '']\n",
      "[ 0.7   0.1   0.15  0.05 -1.  ]\n",
      "['None', 'Slight', 'Heavy', '', '']\n",
      "[ 0.4   0.35  0.25 -1.   -1.  ]\n",
      "['None', 'Normal', 'High', '', '']\n",
      "[ 0.25  0.4   0.35 -1.   -1.  ]\n",
      "['Spring', 'Winter', 'Summer', 'Autumn', '']\n",
      "[ 0.25  0.3   0.3   0.15 -1.  ]\n",
      "['Weekday', 'Saturday', 'Sunday', 'Holiday', '']\n",
      "[ 0.65  0.15  0.05  0.15 -1.  ]\n"
     ]
    }
   ],
   "source": [
    "def compute_prior_prob2(data, x):\n",
    "    unique = [['On Time', 'Late', 'Very Late', 'Cancelled', ''],['None', 'Slight', 'Heavy', '', ''],['None', 'Normal', 'High', '', ''], ['Spring', 'Winter', 'Summer', 'Autumn', '']\n",
    "              , ['Weekday', 'Saturday', 'Sunday', 'Holiday', '']\n",
    "              ]\n",
    "    prior_prob = np.zeros((len(unique), 5))\n",
    "    for i,text in enumerate(unique):\n",
    "        for j in range(len(text)):\n",
    "            prior_prob[i][j] = np.sum(data[:,x] == text[j])/len(data)\n",
    "            if (prior_prob[i][j] == 0.0000):\n",
    "                prior_prob[i][j] = -1\n",
    "        x -= 1\n",
    "        print(text)\n",
    "        print(prior_prob[i])\n",
    "\n",
    "compute_prior_prob2(data, 4)"
   ]
  },
  {
   "cell_type": "code",
   "execution_count": 67,
   "metadata": {},
   "outputs": [
    {
     "name": "stdout",
     "output_type": "stream",
     "text": [
      "['Holiday' 'Saturday' 'Sunday' 'Weekday']\n",
      "[[0.14285714 0.14285714 0.07142857 0.64285714]\n",
      " [0.5        0.         0.         0.5       ]\n",
      " [0.         0.         0.         1.        ]\n",
      " [0.         1.         0.         0.        ]]\n",
      "['Autumn' 'Spring' 'Summer' 'Winter']\n",
      "[[0.14285714 0.28571429 0.42857143 0.14285714]\n",
      " [0.         0.         0.         1.        ]\n",
      " [0.33333333 0.         0.         0.66666667]\n",
      " [0.         1.         0.         0.        ]]\n",
      "['High' 'None' 'Normal']\n",
      "[[0.28571429 0.35714286 0.35714286]\n",
      " [0.5        0.         0.5       ]\n",
      " [0.33333333 0.         0.66666667]\n",
      " [1.         0.         0.        ]]\n",
      "['Heavy' 'None' 'Slight']\n",
      "[[0.14285714 0.42857143 0.42857143]\n",
      " [0.         0.5        0.5       ]\n",
      " [0.66666667 0.33333333 0.        ]\n",
      " [1.         0.         0.        ]]\n"
     ]
    }
   ],
   "source": [
    "def compute_conditional_prob2(data, x):\n",
    "    y = ['On Time', 'Late', 'Very Late', 'Cancelled']\n",
    "    conditional_prob = []\n",
    "    for i in range(0, data.shape[1]-1):\n",
    "        x = np.unique(data[:,i])\n",
    "        print(x)\n",
    "\n",
    "        x_conditional_prob = np.zeros((len(y), len(x)))\n",
    "        for j in range(len(y)):\n",
    "            for k in range(len(x)):\n",
    "                x_conditional_prob[j][k] = np.sum((data[:,i] == x[k]) & (data[:,-1] == y[j]))/np.sum(data[:,-1] == y[j])\n",
    "        conditional_prob.append(x_conditional_prob)\n",
    "        print(x_conditional_prob)\n",
    "\n",
    "compute_conditional_prob2(data, 4)"
   ]
  },
  {
   "cell_type": "code",
   "execution_count": 68,
   "metadata": {},
   "outputs": [
    {
     "name": "stdout",
     "output_type": "stream",
     "text": [
      "[[1.4 0. ]\n",
      " [1.  0. ]\n",
      " [1.3 0. ]\n",
      " [0.9 0. ]\n",
      " [2.  0. ]\n",
      " [1.8 0. ]\n",
      " [3.  1. ]\n",
      " [3.8 1. ]\n",
      " [4.1 1. ]\n",
      " [3.9 1. ]\n",
      " [4.2 1. ]\n",
      " [3.4 1. ]]\n"
     ]
    }
   ],
   "source": [
    "iris_data = [[1.4, 0], [1.0 , 0],\n",
    "             [1.3, 0], [0.9, 0],\n",
    "             [2.0, 0], [1.8, 0],\n",
    "             [3.0, 1], [3.8, 1],\n",
    "             [4.1, 1], [3.9, 1],\n",
    "             [4.2, 1], [3.4, 1]\n",
    "]\n",
    "\n",
    "iris_data = np.array(iris_data)\n",
    "print(iris_data)"
   ]
  },
  {
   "cell_type": "code",
   "execution_count": 97,
   "metadata": {},
   "outputs": [],
   "source": [
    "def gaussian_function(x, mean, std):\n",
    "    return (1/(std*np.sqrt(2*np.pi)))*np.exp(-((x-mean)**2)/(2*(std**2)))"
   ]
  },
  {
   "cell_type": "code",
   "execution_count": 98,
   "metadata": {},
   "outputs": [],
   "source": [
    "def compute_prior_prob_iris(data):\n",
    "    y_unique = [0, 1]\n",
    "    prior_prob = np.zeros(2)\n",
    "    for i in range(len(y_unique)):\n",
    "        prior_prob[i] = np.sum(data[:,1] == y_unique[i])/len(data)\n",
    "        print(prior_prob[i])"
   ]
  },
  {
   "cell_type": "code",
   "execution_count": null,
   "metadata": {},
   "outputs": [],
   "source": [
    "def train_gaussian_naive_bayes(data):\n",
    "    #prior_probability = \n",
    "    compute_prior_prob_iris(data)\n",
    "    #conditional_probability = \n",
    "    compute_conditional_prob_iris(data)\n",
    "    #return prior_probability, conditional_probability\n",
    "\n",
    "train_gaussian_naive_bayes(iris_data)\n"
   ]
  },
  {
   "cell_type": "code",
   "execution_count": null,
   "metadata": {},
   "outputs": [],
   "source": []
  }
 ],
 "metadata": {
  "kernelspec": {
   "display_name": "cs106",
   "language": "python",
   "name": "python3"
  },
  "language_info": {
   "codemirror_mode": {
    "name": "ipython",
    "version": 3
   },
   "file_extension": ".py",
   "mimetype": "text/x-python",
   "name": "python",
   "nbconvert_exporter": "python",
   "pygments_lexer": "ipython3",
   "version": "3.11.7"
  }
 },
 "nbformat": 4,
 "nbformat_minor": 2
}
