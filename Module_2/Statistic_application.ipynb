{
 "cells": [
  {
   "cell_type": "code",
   "execution_count": 2,
   "metadata": {},
   "outputs": [
    {
     "name": "stdout",
     "output_type": "stream",
     "text": [
      "mean:  1.8\n"
     ]
    }
   ],
   "source": [
    "import numpy as np\n",
    "def compute_mean_equation(X):\n",
    "    return np.sum(X, axis=0) / X.shape[0]\n",
    "\n",
    "X = [2 , 0 , 2 , 2 , 7, 4 , -2 , 5 , -1 , -1]\n",
    "\n",
    "print(\"mean: \", compute_mean_equation(np.array(X)))"
   ]
  },
  {
   "cell_type": "code",
   "execution_count": 3,
   "metadata": {},
   "outputs": [
    {
     "name": "stdout",
     "output_type": "stream",
     "text": [
      "[1 4 4 5 9]\n",
      " Median :  4\n"
     ]
    }
   ],
   "source": [
    "def compute_median(X):\n",
    "    size = len(X)\n",
    "    X = np.sort(X)\n",
    "    print(X)\n",
    "    if (size % 2 != 0):\n",
    "        return X[int((size + 1)/2-1)]\n",
    "    else:\n",
    "        return (X[int(size/2)-1] + X[int(size/2)]) /2 \n",
    "\n",
    "X = [1 , 5 , 4 , 4 , 9]\n",
    "print (\" Median : \", compute_median(X))"
   ]
  },
  {
   "cell_type": "code",
   "execution_count": 4,
   "metadata": {},
   "outputs": [
    {
     "name": "stdout",
     "output_type": "stream",
     "text": [
      "8.32666399786453\n"
     ]
    }
   ],
   "source": [
    "def compute_std(X):\n",
    "    mean = compute_mean_equation(np.array(X))\n",
    "    variance = 0\n",
    "    for i in X:\n",
    "        variance += (i - mean)**2\n",
    "    variance = variance / len(X)\n",
    "    return variance ** 0.5\n",
    "\n",
    "X = [ 171 , 176 , 155 , 167 , 169 , 182]\n",
    "print (compute_std(X))"
   ]
  },
  {
   "cell_type": "code",
   "execution_count": 8,
   "metadata": {},
   "outputs": [
    {
     "name": "stdout",
     "output_type": "stream",
     "text": [
      "Correlation :  0.42026333096027263\n"
     ]
    }
   ],
   "source": [
    "def compute_correlation_coefficient(X, Y):\n",
    "    N = len(X)\n",
    "    numerator1 = 0\n",
    "    denominator = 0\n",
    "    mean_x = compute_mean_equation(np.array(X))\n",
    "    mean_y = compute_mean_equation(np.array(Y))\n",
    "    for i in range(N):\n",
    "        numerator1 += X[i] * Y[i]\n",
    "    numerator = N * numerator1 - sum(X) * sum(Y)\n",
    "    denominator = (N*sum(X**2) - sum(X)**2) * (N*sum(Y**2) - sum(Y)**2)\n",
    "    return numerator / (denominator ** 0.5)\n",
    "\n",
    "X = np.asarray([ -2 , -5 , -11 , 6 , 4 , 15 , 9])\n",
    "Y = np.asarray([4 , 25 , 121 , 36 , 16 , 225 , 81])\n",
    "print (\"Correlation : \", compute_correlation_coefficient(X ,Y))"
   ]
  },
  {
   "cell_type": "code",
   "execution_count": null,
   "metadata": {},
   "outputs": [],
   "source": [
    "import pandas as pd\n",
    "import numpy as np\n",
    "import seaborn as sns\n",
    "import matplotlib.pyplot as plt\n",
    "data = pd.read_csv(\"./advertising.csv\")\n"
   ]
  },
  {
   "cell_type": "code",
   "execution_count": null,
   "metadata": {},
   "outputs": [],
   "source": [
    "def correlation(x, y):\n",
    "  x_mean = np.mean(x)\n",
    "  y_mean = np.mean(y)\n",
    "\n",
    "  numerator = np.sum((x - x_mean) * (y - y_mean))\n",
    "  denominator = np.sqrt(np.sum((x - x_mean)**2) * np.sum((y - y_mean)**2))\n",
    "\n",
    "  if denominator == 0:\n",
    "    return 0  \n",
    "\n",
    "  return numerator / denominator\n",
    "\n",
    "x = data['Radio']\n",
    "y = data['Newspaper']\n",
    "\n",
    "result = correlation(x, y)\n",
    "print(round(result, 2))"
   ]
  },
  {
   "cell_type": "code",
   "execution_count": null,
   "metadata": {},
   "outputs": [],
   "source": [
    "features = ['TV', 'Radio', 'Newspaper']\n",
    "\n",
    "for feature_1 in features:\n",
    "  for feature_2 in features:\n",
    "      correlation_value = correlation(data[feature_1], data[feature_2])\n",
    "      print(f\"{feature_1} and {feature_2}: {round(correlation_value, 2)}\")"
   ]
  },
  {
   "cell_type": "code",
   "execution_count": null,
   "metadata": {},
   "outputs": [],
   "source": [
    "x = data['Radio']\n",
    "y = data['Newspaper']\n",
    "\n",
    "result = np.corrcoef(x, y)\n",
    "print(result)"
   ]
  },
  {
   "cell_type": "code",
   "execution_count": null,
   "metadata": {},
   "outputs": [],
   "source": [
    "data_corr_coef = data.corr()\n",
    "plt.figure(figsize=(10,8))\n",
    "sns.heatmap(data_corr_coef, annot=True, fmt=\".2f\", linewidth=.5)\n",
    "plt.show()"
   ]
  }
 ],
 "metadata": {
  "kernelspec": {
   "display_name": "base",
   "language": "python",
   "name": "python3"
  },
  "language_info": {
   "codemirror_mode": {
    "name": "ipython",
    "version": 3
   },
   "file_extension": ".py",
   "mimetype": "text/x-python",
   "name": "python",
   "nbconvert_exporter": "python",
   "pygments_lexer": "ipython3",
   "version": "3.11.7"
  }
 },
 "nbformat": 4,
 "nbformat_minor": 2
}
