{
 "cells": [
  {
   "cell_type": "code",
   "execution_count": 27,
   "metadata": {},
   "outputs": [],
   "source": [
    "import numpy as np\n",
    "\n",
    "\n",
    "def compute_vector_length(v):\n",
    "    return np.sqrt(np.sum(v**2))\n",
    "\n",
    "def compute_dot_product(vector1, vector2):\n",
    "    return np.dot(vector1, vector2)\n",
    "\n",
    "def matrix_multi_vector(matrix, vector):\n",
    "    return np.dot(matrix, vector)\n",
    "\n",
    "def matrix_multi_matrix(matrix1, matrix2):\n",
    "    return np.dot(matrix1, matrix2)\n",
    "\n",
    "def inverse_matrix(matrix):\n",
    "    return np.linalg.inv(matrix)\n",
    "\n",
    "def compute_eigenvalues_eigenvetors(matrix):\n",
    "    eigenvalues, eigenvectors = np.linalg.eig(matrix)\n",
    "    return eigenvalues, eigenvectors\n",
    "\n",
    "def compute_cosine(vector1, vector2):\n",
    "    return np.dot(vector1, vector2) / (compute_vector_length(vector1) * compute_vector_length(vector2))"
   ]
  },
  {
   "cell_type": "code",
   "execution_count": 3,
   "metadata": {},
   "outputs": [
    {
     "name": "stdout",
     "output_type": "stream",
     "text": [
      "23.28\n"
     ]
    }
   ],
   "source": [
    "vector = np.array([-2, 4, 9, 21])\n",
    "result = compute_vector_length(vector)\n",
    "print(round(result, 2))"
   ]
  },
  {
   "cell_type": "code",
   "execution_count": 5,
   "metadata": {},
   "outputs": [
    {
     "name": "stdout",
     "output_type": "stream",
     "text": [
      "4\n"
     ]
    }
   ],
   "source": [
    "v1 = np.array([0, 1, -1, 2])\n",
    "v2 = np.array([2, 5, 1, 0])\n",
    "result = compute_dot_product(v1, v2)\n",
    "print(round(result, 2))"
   ]
  },
  {
   "cell_type": "code",
   "execution_count": 7,
   "metadata": {},
   "outputs": [
    {
     "name": "stdout",
     "output_type": "stream",
     "text": [
      "result \n",
      " [ 5 11]\n"
     ]
    }
   ],
   "source": [
    "x = np.array([[1, 2],[3, 4]])\n",
    "k = np.array([1, 2])\n",
    "print('result \\n', x.dot(k))"
   ]
  },
  {
   "cell_type": "code",
   "execution_count": 8,
   "metadata": {},
   "outputs": [
    {
     "name": "stdout",
     "output_type": "stream",
     "text": [
      "result \n",
      " [ 3 -5]\n"
     ]
    }
   ],
   "source": [
    "x = np.array([[-1, 2],[3, -4]])\n",
    "k = np.array([1, 2])\n",
    "print('result \\n', x@k)"
   ]
  },
  {
   "cell_type": "code",
   "execution_count": 9,
   "metadata": {},
   "outputs": [
    {
     "name": "stdout",
     "output_type": "stream",
     "text": [
      "[3 1]\n"
     ]
    }
   ],
   "source": [
    "m = np.array([[-1, 1, 1],[0, -4, 9]])\n",
    "v = np.array([0, 2, 1])\n",
    "result = matrix_multi_vector(m, v)\n",
    "print(result)"
   ]
  },
  {
   "cell_type": "code",
   "execution_count": 10,
   "metadata": {},
   "outputs": [
    {
     "name": "stdout",
     "output_type": "stream",
     "text": [
      "[[  6  -1]\n",
      " [-16 -10]]\n"
     ]
    }
   ],
   "source": [
    "m1 = np.array([[0, 1, 2], [2, -3, 1]])\n",
    "m2 = np.array([[1, -3], [6, 1], [0, -1]])\n",
    "result = matrix_multi_matrix(m1, m2)\n",
    "print(result)"
   ]
  },
  {
   "cell_type": "code",
   "execution_count": 11,
   "metadata": {},
   "outputs": [
    {
     "name": "stdout",
     "output_type": "stream",
     "text": [
      "[[1. 0. 0.]\n",
      " [0. 1. 0.]\n",
      " [0. 0. 1.]]\n",
      "[[1. 1. 1.]\n",
      " [2. 2. 2.]\n",
      " [3. 3. 3.]]\n"
     ]
    }
   ],
   "source": [
    "m1 = np.eye(3)\n",
    "print(m1)\n",
    "m2 = np.array([[1, 1, 1], [2, 2, 2], [3, 3, 3]])\n",
    "result = m1@m2\n",
    "print(result)"
   ]
  },
  {
   "cell_type": "code",
   "execution_count": 19,
   "metadata": {},
   "outputs": [
    {
     "name": "stdout",
     "output_type": "stream",
     "text": [
      "[1. 0. 0. 1.]\n",
      "[5. 5. 5. 5.]\n"
     ]
    }
   ],
   "source": [
    "m1 = np.eye(2)\n",
    "m1 = np.reshape(m1, (-1, 4))[0]\n",
    "print(m1)\n",
    "m2 = np.array([[1, 1, 1, 1], [2, 2, 2, 2], [3, 3, 3, 3], [4, 4, 4, 4]])\n",
    "result = m1@m2\n",
    "print(result)"
   ]
  },
  {
   "cell_type": "code",
   "execution_count": 23,
   "metadata": {},
   "outputs": [
    {
     "name": "stdout",
     "output_type": "stream",
     "text": [
      "[1 3 2 4]\n",
      "[29 29 29 29]\n"
     ]
    }
   ],
   "source": [
    "m1 = np.array([[1, 2], [3, 4]])\n",
    "m1 = np.reshape(m1, (-1, 4), \"F\")[0]\n",
    "print(m1)\n",
    "m2 = np.array([[1, 1, 1, 1], [2, 2, 2, 2], [3, 3, 3, 3], [4, 4, 4, 4]])\n",
    "result = m1@m2\n",
    "print(result)"
   ]
  },
  {
   "cell_type": "code",
   "execution_count": 24,
   "metadata": {},
   "outputs": [
    {
     "name": "stdout",
     "output_type": "stream",
     "text": [
      "[[0.1  0.15]\n",
      " [0.2  0.05]]\n"
     ]
    }
   ],
   "source": [
    "m1 = np.array([[-2, 6], [8, -4]])\n",
    "result = inverse_matrix(m1)\n",
    "print(result)"
   ]
  },
  {
   "cell_type": "code",
   "execution_count": 29,
   "metadata": {},
   "outputs": [
    {
     "name": "stdout",
     "output_type": "stream",
     "text": [
      "[[ 0.89442719 -0.70710678]\n",
      " [ 0.4472136   0.70710678]]\n"
     ]
    }
   ],
   "source": [
    "matrix = np.array([[0.9, 0.2], [0.1, 0.8]])\n",
    "eigenvalues, eigenvectors = compute_eigenvalues_eigenvetors(matrix)\n",
    "print(eigenvectors)"
   ]
  },
  {
   "cell_type": "code",
   "execution_count": 31,
   "metadata": {},
   "outputs": [
    {
     "name": "stdout",
     "output_type": "stream",
     "text": [
      "0.577\n"
     ]
    }
   ],
   "source": [
    "x = np.array([1, 2, 3, 4])\n",
    "y = np.array([1, 0, 3, 0])\n",
    "result = compute_cosine(x, y)\n",
    "print(round(result, 3))"
   ]
  },
  {
   "cell_type": "code",
   "execution_count": null,
   "metadata": {},
   "outputs": [],
   "source": []
  }
 ],
 "metadata": {
  "kernelspec": {
   "display_name": "base",
   "language": "python",
   "name": "python3"
  },
  "language_info": {
   "codemirror_mode": {
    "name": "ipython",
    "version": 3
   },
   "file_extension": ".py",
   "mimetype": "text/x-python",
   "name": "python",
   "nbconvert_exporter": "python",
   "pygments_lexer": "ipython3",
   "version": "3.11.7"
  }
 },
 "nbformat": 4,
 "nbformat_minor": 2
}
